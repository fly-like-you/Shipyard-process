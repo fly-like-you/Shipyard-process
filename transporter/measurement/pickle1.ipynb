{
 "cells": [
  {
   "cell_type": "code",
   "execution_count": 1,
   "outputs": [],
   "source": [
    "import pickle\n",
    "import pandas as pd\n",
    "import matplotlib.pyplot as plt\n",
    "from matplotlib import font_manager, rc\n",
    "font_path = r'C:\\Windows\\Fonts\\gulim.ttc'\n",
    "font = font_manager.FontProperties(fname=font_path).get_name()\n",
    "rc('font', family=font)\n",
    "plt.rcParams['axes.unicode_minus'] = False"
   ],
   "metadata": {
    "collapsed": false
   }
  },
  {
   "cell_type": "code",
   "execution_count": 2,
   "outputs": [],
   "source": [
    "with open('result_pickle/ELITISM-0.085MUTATION-0.191_len(500).pkl', 'rb') as f:\n",
    "    result = pickle.load(f)\n",
    "with open('result_pickle/results2(len100).pkl', 'rb') as f:\n",
    "    result2 = pickle.load(f)\n",
    "with open('result_pickle/result.pkl', 'rb') as f:\n",
    "    result3 = pickle.load(f)\n",
    "with open('result_pickle/ELITISM-0.092MUTATION-0.05len(300).pkl', 'rb') as f:\n",
    "    result4 = pickle.load(f)\n",
    "with open('../transporter/multi_start/multi_start(len300).pkl', 'rb') as f:\n",
    "    result5 = pickle.load(f)\n"
   ],
   "metadata": {
    "collapsed": false
   }
  },
  {
   "cell_type": "code",
   "execution_count": 3,
   "outputs": [],
   "source": [
    "with open('GA_cluster4_500_len30.pkl', 'rb') as f:\n",
    "    ga_cluster = pickle.load(f)\n",
    "with open('../transporter/multi_start/cluster/cluster4_multi_start(len1000).pkl', 'rb') as f:\n",
    "    ms_cluster = pickle.load(f)"
   ],
   "metadata": {
    "collapsed": false
   }
  },
  {
   "cell_type": "code",
   "execution_count": 4,
   "outputs": [
    {
     "data": {
      "text/plain": "          fitness  distance\n253  55485.808427     333.6\n963  55309.125280     351.3\n740  55253.112739     349.9\n24   55238.057439     328.1\n711  54747.558937     334.3\n..            ...       ...\n751  39516.067874     358.3\n996  39348.433406     362.8\n738  39005.680886     355.1\n717  38184.056282     352.9\n708  38107.933003     349.2\n\n[1000 rows x 2 columns]",
      "text/html": "<div>\n<style scoped>\n    .dataframe tbody tr th:only-of-type {\n        vertical-align: middle;\n    }\n\n    .dataframe tbody tr th {\n        vertical-align: top;\n    }\n\n    .dataframe thead th {\n        text-align: right;\n    }\n</style>\n<table border=\"1\" class=\"dataframe\">\n  <thead>\n    <tr style=\"text-align: right;\">\n      <th></th>\n      <th>fitness</th>\n      <th>distance</th>\n    </tr>\n  </thead>\n  <tbody>\n    <tr>\n      <th>253</th>\n      <td>55485.808427</td>\n      <td>333.6</td>\n    </tr>\n    <tr>\n      <th>963</th>\n      <td>55309.125280</td>\n      <td>351.3</td>\n    </tr>\n    <tr>\n      <th>740</th>\n      <td>55253.112739</td>\n      <td>349.9</td>\n    </tr>\n    <tr>\n      <th>24</th>\n      <td>55238.057439</td>\n      <td>328.1</td>\n    </tr>\n    <tr>\n      <th>711</th>\n      <td>54747.558937</td>\n      <td>334.3</td>\n    </tr>\n    <tr>\n      <th>...</th>\n      <td>...</td>\n      <td>...</td>\n    </tr>\n    <tr>\n      <th>751</th>\n      <td>39516.067874</td>\n      <td>358.3</td>\n    </tr>\n    <tr>\n      <th>996</th>\n      <td>39348.433406</td>\n      <td>362.8</td>\n    </tr>\n    <tr>\n      <th>738</th>\n      <td>39005.680886</td>\n      <td>355.1</td>\n    </tr>\n    <tr>\n      <th>717</th>\n      <td>38184.056282</td>\n      <td>352.9</td>\n    </tr>\n    <tr>\n      <th>708</th>\n      <td>38107.933003</td>\n      <td>349.2</td>\n    </tr>\n  </tbody>\n</table>\n<p>1000 rows × 2 columns</p>\n</div>"
     },
     "execution_count": 4,
     "metadata": {},
     "output_type": "execute_result"
    }
   ],
   "source": [
    "ms_cluster"
   ],
   "metadata": {
    "collapsed": false
   }
  },
  {
   "cell_type": "code",
   "execution_count": 5,
   "outputs": [],
   "source": [
    "def get_mutate_elite(result):\n",
    "    result['ELITISM_RATE'] = result['params'].apply(lambda x: x['ELITISM_RATE'])\n",
    "    result['MUTATION_RATE'] = result['params'].apply(lambda x:x['MUTATION_RATE'])\n",
    "    result['POPULATION_SIZE'] = result['params'].apply(lambda x:x['POPULATION_SIZE'])\n",
    "    result['GENERATION_SIZE'] = result['params'].apply(lambda x:x['GENERATION_SIZE'])\n",
    "    result['rank'] = range(1, len(result)+1)\n",
    "    # result = result.drop('params', axis=1)\n",
    "    result = result.drop('fitness', axis=1)\n",
    "    return result\n",
    "\n",
    "def show_df(df, param1, param2):\n",
    "    # ELITISM_RATE, MUTATION_RATE, Fitness에 대한 산점도 그래프 출력\n",
    "    # fig, axs = plt.subplots(1, 2, figsize=(10, 5), dpi=200)\n",
    "    fig = plt.figure(figsize=(10, 5), dpi=100)\n",
    "    plt.scatter(df[param1], df[param2])\n",
    "    plt.title(f'{param1} vs {param2}')\n",
    "    plt.xlabel(f'{param1}')\n",
    "    plt.ylabel(f'{param2}')\n",
    "    # axs[0].scatter(df[param1], range(0,len(df)))\n",
    "    # axs[0].set_xlabel(f'{param1}')\n",
    "    # axs[0].set_ylabel(f'{param2}')\n",
    "    # axs[0].set_title(f'{param1} vs {param2}')\n",
    "    # axs[1].scatter(df['MUTATION_RATE'], range(0,len(df)))\n",
    "    # axs[1].set_xlabel('피트니스 내림차순')\n",
    "    # axs[1].set_ylabel('MUTATION_RATE')\n",
    "    # axs[1].set_title('Mutation Rate')\n",
    "    plt.show()\n",
    "\n",
    "def show_elite(df):\n",
    "    # 그래프 출력 설정\n",
    "    fig = plt.figure(figsize=(10, 5), dpi=100)\n",
    "    plt.scatter(range(0,len(df)), df['ELITISM_RATE'])\n",
    "    plt.title('Scatter Plot')\n",
    "    plt.xlabel('피트니스 내림차순')\n",
    "    plt.ylabel('ELITISM_RATE')\n",
    "    plt.show()\n"
   ],
   "metadata": {
    "collapsed": false
   }
  },
  {
   "cell_type": "code",
   "execution_count": 8,
   "outputs": [
    {
     "ename": "KeyError",
     "evalue": "'params'",
     "output_type": "error",
     "traceback": [
      "\u001B[1;31m---------------------------------------------------------------------------\u001B[0m",
      "\u001B[1;31mKeyError\u001B[0m                                  Traceback (most recent call last)",
      "File \u001B[1;32m~\\AppData\\Roaming\\Python\\Python39\\site-packages\\pandas\\core\\indexes\\base.py:3802\u001B[0m, in \u001B[0;36mIndex.get_loc\u001B[1;34m(self, key, method, tolerance)\u001B[0m\n\u001B[0;32m   3801\u001B[0m \u001B[38;5;28;01mtry\u001B[39;00m:\n\u001B[1;32m-> 3802\u001B[0m     \u001B[38;5;28;01mreturn\u001B[39;00m \u001B[38;5;28;43mself\u001B[39;49m\u001B[38;5;241;43m.\u001B[39;49m\u001B[43m_engine\u001B[49m\u001B[38;5;241;43m.\u001B[39;49m\u001B[43mget_loc\u001B[49m\u001B[43m(\u001B[49m\u001B[43mcasted_key\u001B[49m\u001B[43m)\u001B[49m\n\u001B[0;32m   3803\u001B[0m \u001B[38;5;28;01mexcept\u001B[39;00m \u001B[38;5;167;01mKeyError\u001B[39;00m \u001B[38;5;28;01mas\u001B[39;00m err:\n",
      "File \u001B[1;32m~\\AppData\\Roaming\\Python\\Python39\\site-packages\\pandas\\_libs\\index.pyx:138\u001B[0m, in \u001B[0;36mpandas._libs.index.IndexEngine.get_loc\u001B[1;34m()\u001B[0m\n",
      "File \u001B[1;32m~\\AppData\\Roaming\\Python\\Python39\\site-packages\\pandas\\_libs\\index.pyx:165\u001B[0m, in \u001B[0;36mpandas._libs.index.IndexEngine.get_loc\u001B[1;34m()\u001B[0m\n",
      "File \u001B[1;32mpandas\\_libs\\hashtable_class_helper.pxi:5745\u001B[0m, in \u001B[0;36mpandas._libs.hashtable.PyObjectHashTable.get_item\u001B[1;34m()\u001B[0m\n",
      "File \u001B[1;32mpandas\\_libs\\hashtable_class_helper.pxi:5753\u001B[0m, in \u001B[0;36mpandas._libs.hashtable.PyObjectHashTable.get_item\u001B[1;34m()\u001B[0m\n",
      "\u001B[1;31mKeyError\u001B[0m: 'params'",
      "\nThe above exception was the direct cause of the following exception:\n",
      "\u001B[1;31mKeyError\u001B[0m                                  Traceback (most recent call last)",
      "Cell \u001B[1;32mIn[8], line 1\u001B[0m\n\u001B[1;32m----> 1\u001B[0m df1 \u001B[38;5;241m=\u001B[39m \u001B[43mget_mutate_elite\u001B[49m\u001B[43m(\u001B[49m\u001B[43mga_cluster\u001B[49m\u001B[43m)\u001B[49m\n\u001B[0;32m      2\u001B[0m df2 \u001B[38;5;241m=\u001B[39m get_mutate_elite(ms_cluster)\n",
      "Cell \u001B[1;32mIn[5], line 2\u001B[0m, in \u001B[0;36mget_mutate_elite\u001B[1;34m(result)\u001B[0m\n\u001B[0;32m      1\u001B[0m \u001B[38;5;28;01mdef\u001B[39;00m \u001B[38;5;21mget_mutate_elite\u001B[39m(result):\n\u001B[1;32m----> 2\u001B[0m     result[\u001B[38;5;124m'\u001B[39m\u001B[38;5;124mELITISM_RATE\u001B[39m\u001B[38;5;124m'\u001B[39m] \u001B[38;5;241m=\u001B[39m \u001B[43mresult\u001B[49m\u001B[43m[\u001B[49m\u001B[38;5;124;43m'\u001B[39;49m\u001B[38;5;124;43mparams\u001B[39;49m\u001B[38;5;124;43m'\u001B[39;49m\u001B[43m]\u001B[49m\u001B[38;5;241m.\u001B[39mapply(\u001B[38;5;28;01mlambda\u001B[39;00m x: x[\u001B[38;5;124m'\u001B[39m\u001B[38;5;124mELITISM_RATE\u001B[39m\u001B[38;5;124m'\u001B[39m])\n\u001B[0;32m      3\u001B[0m     result[\u001B[38;5;124m'\u001B[39m\u001B[38;5;124mMUTATION_RATE\u001B[39m\u001B[38;5;124m'\u001B[39m] \u001B[38;5;241m=\u001B[39m result[\u001B[38;5;124m'\u001B[39m\u001B[38;5;124mparams\u001B[39m\u001B[38;5;124m'\u001B[39m]\u001B[38;5;241m.\u001B[39mapply(\u001B[38;5;28;01mlambda\u001B[39;00m x:x[\u001B[38;5;124m'\u001B[39m\u001B[38;5;124mMUTATION_RATE\u001B[39m\u001B[38;5;124m'\u001B[39m])\n\u001B[0;32m      4\u001B[0m     result[\u001B[38;5;124m'\u001B[39m\u001B[38;5;124mPOPULATION_SIZE\u001B[39m\u001B[38;5;124m'\u001B[39m] \u001B[38;5;241m=\u001B[39m result[\u001B[38;5;124m'\u001B[39m\u001B[38;5;124mparams\u001B[39m\u001B[38;5;124m'\u001B[39m]\u001B[38;5;241m.\u001B[39mapply(\u001B[38;5;28;01mlambda\u001B[39;00m x:x[\u001B[38;5;124m'\u001B[39m\u001B[38;5;124mPOPULATION_SIZE\u001B[39m\u001B[38;5;124m'\u001B[39m])\n",
      "File \u001B[1;32m~\\AppData\\Roaming\\Python\\Python39\\site-packages\\pandas\\core\\frame.py:3807\u001B[0m, in \u001B[0;36mDataFrame.__getitem__\u001B[1;34m(self, key)\u001B[0m\n\u001B[0;32m   3805\u001B[0m \u001B[38;5;28;01mif\u001B[39;00m \u001B[38;5;28mself\u001B[39m\u001B[38;5;241m.\u001B[39mcolumns\u001B[38;5;241m.\u001B[39mnlevels \u001B[38;5;241m>\u001B[39m \u001B[38;5;241m1\u001B[39m:\n\u001B[0;32m   3806\u001B[0m     \u001B[38;5;28;01mreturn\u001B[39;00m \u001B[38;5;28mself\u001B[39m\u001B[38;5;241m.\u001B[39m_getitem_multilevel(key)\n\u001B[1;32m-> 3807\u001B[0m indexer \u001B[38;5;241m=\u001B[39m \u001B[38;5;28;43mself\u001B[39;49m\u001B[38;5;241;43m.\u001B[39;49m\u001B[43mcolumns\u001B[49m\u001B[38;5;241;43m.\u001B[39;49m\u001B[43mget_loc\u001B[49m\u001B[43m(\u001B[49m\u001B[43mkey\u001B[49m\u001B[43m)\u001B[49m\n\u001B[0;32m   3808\u001B[0m \u001B[38;5;28;01mif\u001B[39;00m is_integer(indexer):\n\u001B[0;32m   3809\u001B[0m     indexer \u001B[38;5;241m=\u001B[39m [indexer]\n",
      "File \u001B[1;32m~\\AppData\\Roaming\\Python\\Python39\\site-packages\\pandas\\core\\indexes\\base.py:3804\u001B[0m, in \u001B[0;36mIndex.get_loc\u001B[1;34m(self, key, method, tolerance)\u001B[0m\n\u001B[0;32m   3802\u001B[0m     \u001B[38;5;28;01mreturn\u001B[39;00m \u001B[38;5;28mself\u001B[39m\u001B[38;5;241m.\u001B[39m_engine\u001B[38;5;241m.\u001B[39mget_loc(casted_key)\n\u001B[0;32m   3803\u001B[0m \u001B[38;5;28;01mexcept\u001B[39;00m \u001B[38;5;167;01mKeyError\u001B[39;00m \u001B[38;5;28;01mas\u001B[39;00m err:\n\u001B[1;32m-> 3804\u001B[0m     \u001B[38;5;28;01mraise\u001B[39;00m \u001B[38;5;167;01mKeyError\u001B[39;00m(key) \u001B[38;5;28;01mfrom\u001B[39;00m \u001B[38;5;21;01merr\u001B[39;00m\n\u001B[0;32m   3805\u001B[0m \u001B[38;5;28;01mexcept\u001B[39;00m \u001B[38;5;167;01mTypeError\u001B[39;00m:\n\u001B[0;32m   3806\u001B[0m     \u001B[38;5;66;03m# If we have a listlike key, _check_indexing_error will raise\u001B[39;00m\n\u001B[0;32m   3807\u001B[0m     \u001B[38;5;66;03m#  InvalidIndexError. Otherwise we fall through and re-raise\u001B[39;00m\n\u001B[0;32m   3808\u001B[0m     \u001B[38;5;66;03m#  the TypeError.\u001B[39;00m\n\u001B[0;32m   3809\u001B[0m     \u001B[38;5;28mself\u001B[39m\u001B[38;5;241m.\u001B[39m_check_indexing_error(key)\n",
      "\u001B[1;31mKeyError\u001B[0m: 'params'"
     ]
    }
   ],
   "source": [
    "df1 = get_mutate_elite(ga_cluster)\n",
    "df2 = get_mutate_elite(ms_cluster)\n"
   ],
   "metadata": {
    "collapsed": false
   }
  },
  {
   "cell_type": "code",
   "execution_count": null,
   "outputs": [],
   "source": [
    "fig = plt.figure(figsize=(30, 30), dpi=300)\n",
    "pd.plotting.scatter_matrix(df1, figsize=(10, 10))\n",
    "plt.show()\n"
   ],
   "metadata": {
    "collapsed": false
   }
  },
  {
   "cell_type": "code",
   "execution_count": 4,
   "outputs": [],
   "source": [
    "ga_t_test = ga_cluster['distance']\n",
    "ga_t_test = pd.concat([ga_t_test, pd.Series(['ga'] * len(ga_t_test))], axis=1)\n",
    "ga_t_test.columns = ['distance', 'group']\n",
    "\n",
    "multi_start_t_test = ms_cluster['distance']\n",
    "multi_start_t_test = pd.concat([multi_start_t_test, pd.Series(['multistart'] * len(multi_start_t_test))], axis=1)\n",
    "multi_start_t_test.columns = ['distance', 'group']"
   ],
   "metadata": {
    "collapsed": false
   }
  },
  {
   "cell_type": "code",
   "execution_count": 5,
   "outputs": [],
   "source": [
    "concatenated_df = pd.concat([ga_t_test, multi_start_t_test], axis=0)"
   ],
   "metadata": {
    "collapsed": false
   }
  },
  {
   "cell_type": "code",
   "execution_count": 6,
   "outputs": [
    {
     "data": {
      "text/plain": "     distance       group\n19      314.1          ga\n0       332.8          ga\n22      337.8          ga\n1       312.8          ga\n5       336.7          ga\n..        ...         ...\n751     358.3  multistart\n996     362.8  multistart\n738     355.1  multistart\n717     352.9  multistart\n708     349.2  multistart\n\n[1030 rows x 2 columns]",
      "text/html": "<div>\n<style scoped>\n    .dataframe tbody tr th:only-of-type {\n        vertical-align: middle;\n    }\n\n    .dataframe tbody tr th {\n        vertical-align: top;\n    }\n\n    .dataframe thead th {\n        text-align: right;\n    }\n</style>\n<table border=\"1\" class=\"dataframe\">\n  <thead>\n    <tr style=\"text-align: right;\">\n      <th></th>\n      <th>distance</th>\n      <th>group</th>\n    </tr>\n  </thead>\n  <tbody>\n    <tr>\n      <th>19</th>\n      <td>314.1</td>\n      <td>ga</td>\n    </tr>\n    <tr>\n      <th>0</th>\n      <td>332.8</td>\n      <td>ga</td>\n    </tr>\n    <tr>\n      <th>22</th>\n      <td>337.8</td>\n      <td>ga</td>\n    </tr>\n    <tr>\n      <th>1</th>\n      <td>312.8</td>\n      <td>ga</td>\n    </tr>\n    <tr>\n      <th>5</th>\n      <td>336.7</td>\n      <td>ga</td>\n    </tr>\n    <tr>\n      <th>...</th>\n      <td>...</td>\n      <td>...</td>\n    </tr>\n    <tr>\n      <th>751</th>\n      <td>358.3</td>\n      <td>multistart</td>\n    </tr>\n    <tr>\n      <th>996</th>\n      <td>362.8</td>\n      <td>multistart</td>\n    </tr>\n    <tr>\n      <th>738</th>\n      <td>355.1</td>\n      <td>multistart</td>\n    </tr>\n    <tr>\n      <th>717</th>\n      <td>352.9</td>\n      <td>multistart</td>\n    </tr>\n    <tr>\n      <th>708</th>\n      <td>349.2</td>\n      <td>multistart</td>\n    </tr>\n  </tbody>\n</table>\n<p>1030 rows × 2 columns</p>\n</div>"
     },
     "execution_count": 6,
     "metadata": {},
     "output_type": "execute_result"
    }
   ],
   "source": [
    "concatenated_df"
   ],
   "metadata": {
    "collapsed": false
   }
  },
  {
   "cell_type": "markdown",
   "source": [],
   "metadata": {
    "collapsed": false
   }
  },
  {
   "cell_type": "code",
   "execution_count": null,
   "outputs": [],
   "source": [
    "# result4(ga), result5(multistart)\n",
    "import seaborn as sns\n",
    "\n",
    "plt.figure(figsize=(6, 6), dpi=400)\n",
    "sns.boxplot(x='group', y='distance', data=concatenated_df)\n",
    "plt.title('알고리즘 비교 (cluster: 4, ga_gen: 300, ms_loop: 1000)')\n",
    "\n",
    "# 각 그룹의 최고점과 최저점을 계산합니다.\n",
    "groups = concatenated_df.groupby('group')['distance']\n",
    "min_points = round(groups.min(),3)\n",
    "max_points = round(groups.max(), 3)\n",
    "\n",
    "# 최고점과 최저점을 표시합니다.\n",
    "for i, (group_name, min_point, max_point) in enumerate(zip(min_points.index, min_points, max_points)):\n",
    "    plt.text(i + 0.2, min_point, f'min: {min_point}', fontsize=12)\n",
    "    plt.text(i + 0.2, max_point, f'max: {max_point}', fontsize=12)\n",
    "\n",
    "plt.show()\n"
   ],
   "metadata": {
    "collapsed": false
   }
  },
  {
   "cell_type": "code",
   "execution_count": 33,
   "outputs": [
    {
     "name": "stdout",
     "output_type": "stream",
     "text": [
      "t-statistic: 72.96475580436001\n",
      "p-value: 0.0\n"
     ]
    }
   ],
   "source": [
    "from scipy import stats\n",
    "import numpy as np\n",
    "\n",
    "#샘플 데이터 생성\n",
    "ga_test = ga_cluster['fitness']\n",
    "ms_test = ms_cluster['fitness']\n",
    "#등분산 t-검정\n",
    "t, p = stats.ttest_ind(ga_test, ms_test, equal_var=True)\n",
    "\n",
    "print(\"t-statistic:\", t)\n",
    "print(\"p-value:\", p)\n"
   ],
   "metadata": {
    "collapsed": false
   }
  },
  {
   "cell_type": "code",
   "execution_count": null,
   "outputs": [],
   "source": [],
   "metadata": {
    "collapsed": false
   }
  },
  {
   "cell_type": "markdown",
   "source": [],
   "metadata": {
    "collapsed": false
   }
  }
 ],
 "metadata": {
  "kernelspec": {
   "display_name": "Python 3",
   "language": "python",
   "name": "python3"
  },
  "language_info": {
   "codemirror_mode": {
    "name": "ipython",
    "version": 2
   },
   "file_extension": ".py",
   "mimetype": "text/x-python",
   "name": "python",
   "nbconvert_exporter": "python",
   "pygments_lexer": "ipython2",
   "version": "2.7.6"
  }
 },
 "nbformat": 4,
 "nbformat_minor": 0
}
