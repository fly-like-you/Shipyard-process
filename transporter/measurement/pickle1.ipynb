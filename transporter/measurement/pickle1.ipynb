{
 "cells": [
  {
   "cell_type": "code",
   "execution_count": null,
   "outputs": [],
   "source": [
    "import pickle\n",
    "import pandas as pd\n",
    "import matplotlib.pyplot as plt\n",
    "from matplotlib import font_manager, rc\n",
    "font_path = r'C:\\Windows\\Fonts\\gulim.ttc'\n",
    "font = font_manager.FontProperties(fname=font_path).get_name()\n",
    "rc('font', family=font)\n",
    "plt.rcParams['axes.unicode_minus'] = False"
   ],
   "metadata": {
    "collapsed": false,
    "pycharm": {
     "name": "#%%\n"
    }
   }
  },
  {
   "cell_type": "code",
   "execution_count": null,
   "outputs": [],
   "source": [
    "with open('result_pickle/ELITISM-0.085MUTATION-0.191_len(500).pkl', 'rb') as f:\n",
    "    result = pickle.load(f)\n",
    "with open('result_pickle/results2(len100).pkl', 'rb') as f:\n",
    "    result2 = pickle.load(f)\n",
    "with open('result_pickle/result.pkl', 'rb') as f:\n",
    "    result3 = pickle.load(f)\n",
    "with open('result_pickle/ELITISM-0.092MUTATION-0.05len(300).pkl', 'rb') as f:\n",
    "    result4 = pickle.load(f)\n",
    "with open('../transporter/multi_start/multi_start(len300).pkl', 'rb') as f:\n",
    "    result5 = pickle.load(f)\n"
   ],
   "metadata": {
    "collapsed": false,
    "pycharm": {
     "name": "#%%\n"
    }
   }
  },
  {
   "cell_type": "code",
   "execution_count": null,
   "outputs": [],
   "source": [
    "with open('GA_cluster4_500_len30.pkl', 'rb') as f:\n",
    "    ga_cluster = pickle.load(f)\n",
    "with open('../transporter/multi_start/cluster/cluster4_multi_start(len1000).pkl', 'rb') as f:\n",
    "    ms_cluster = pickle.load(f)"
   ],
   "metadata": {
    "collapsed": false,
    "pycharm": {
     "name": "#%%\n"
    }
   }
  },
  {
   "cell_type": "code",
   "execution_count": null,
   "outputs": [],
   "source": [
    "ms_cluster"
   ],
   "metadata": {
    "collapsed": false,
    "pycharm": {
     "name": "#%%\n"
    }
   }
  },
  {
   "cell_type": "code",
   "execution_count": null,
   "outputs": [],
   "source": [
    "def get_mutate_elite(result):\n",
    "    result['ELITISM_RATE'] = result['params'].apply(lambda x: x['ELITISM_RATE'])\n",
    "    result['MUTATION_RATE'] = result['params'].apply(lambda x:x['MUTATION_RATE'])\n",
    "    result['POPULATION_SIZE'] = result['params'].apply(lambda x:x['POPULATION_SIZE'])\n",
    "    result['GENERATION_SIZE'] = result['params'].apply(lambda x:x['GENERATION_SIZE'])\n",
    "    result['rank'] = range(1, len(result)+1)\n",
    "    # result = result.drop('params', axis=1)\n",
    "    result = result.drop('fitness', axis=1)\n",
    "    return result\n",
    "\n",
    "def show_df(df, param1, param2):\n",
    "    # ELITISM_RATE, MUTATION_RATE, Fitness에 대한 산점도 그래프 출력\n",
    "    # fig, axs = plt.subplots(1, 2, figsize=(10, 5), dpi=200)\n",
    "    fig = plt.figure(figsize=(10, 5), dpi=100)\n",
    "    plt.scatter(df[param1], df[param2])\n",
    "    plt.title(f'{param1} vs {param2}')\n",
    "    plt.xlabel(f'{param1}')\n",
    "    plt.ylabel(f'{param2}')\n",
    "    # axs[0].scatter(df[param1], range(0,len(df)))\n",
    "    # axs[0].set_xlabel(f'{param1}')\n",
    "    # axs[0].set_ylabel(f'{param2}')\n",
    "    # axs[0].set_title(f'{param1} vs {param2}')\n",
    "    # axs[1].scatter(df['MUTATION_RATE'], range(0,len(df)))\n",
    "    # axs[1].set_xlabel('피트니스 내림차순')\n",
    "    # axs[1].set_ylabel('MUTATION_RATE')\n",
    "    # axs[1].set_title('Mutation Rate')\n",
    "    plt.show()\n",
    "\n",
    "def show_elite(df):\n",
    "    # 그래프 출력 설정\n",
    "    fig = plt.figure(figsize=(10, 5), dpi=100)\n",
    "    plt.scatter(range(0,len(df)), df['ELITISM_RATE'])\n",
    "    plt.title('Scatter Plot')\n",
    "    plt.xlabel('피트니스 내림차순')\n",
    "    plt.ylabel('ELITISM_RATE')\n",
    "    plt.show()\n"
   ],
   "metadata": {
    "collapsed": false,
    "pycharm": {
     "name": "#%%\n"
    }
   }
  },
  {
   "cell_type": "code",
   "execution_count": null,
   "outputs": [],
   "source": [
    "df1 = get_mutate_elite(ga_cluster2)\n",
    "df2 = get_mutate_elite(ms_cluster2)\n"
   ],
   "metadata": {
    "collapsed": false,
    "pycharm": {
     "name": "#%%\n"
    }
   }
  },
  {
   "cell_type": "code",
   "execution_count": null,
   "outputs": [],
   "source": [
    "fig = plt.figure(figsize=(30, 30), dpi=300)\n",
    "pd.plotting.scatter_matrix(df1, figsize=(10, 10))\n",
    "plt.show()\n"
   ],
   "metadata": {
    "collapsed": false,
    "pycharm": {
     "name": "#%%\n"
    }
   }
  },
  {
   "cell_type": "code",
   "execution_count": null,
   "outputs": [],
   "source": [
    "ga_t_test = ga_cluster['distance']\n",
    "ga_t_test = pd.concat([ga_t_test, pd.Series(['ga'] * len(ga_t_test))], axis=1)\n",
    "ga_t_test.columns = ['distance', 'group']\n",
    "\n",
    "multi_start_t_test = ms_cluster['distance']\n",
    "multi_start_t_test = pd.concat([multi_start_t_test, pd.Series(['multistart'] * len(multi_start_t_test))], axis=1)\n",
    "multi_start_t_test.columns = ['distance', 'group']"
   ],
   "metadata": {
    "collapsed": false,
    "pycharm": {
     "name": "#%%\n"
    }
   }
  },
  {
   "cell_type": "code",
   "execution_count": null,
   "outputs": [],
   "source": [
    "concatenated_df = pd.concat([ga_t_test, multi_start_t_test], axis=0)"
   ],
   "metadata": {
    "collapsed": false,
    "pycharm": {
     "name": "#%%\n"
    }
   }
  },
  {
   "cell_type": "markdown",
   "source": [],
   "metadata": {
    "collapsed": false,
    "pycharm": {
     "name": "#%% md\n"
    }
   }
  },
  {
   "cell_type": "code",
   "execution_count": null,
   "outputs": [],
   "source": [
    "# result4(ga), result5(multistart)\n",
    "import seaborn as sns\n",
    "\n",
    "plt.figure(figsize=(6, 6), dpi=400)\n",
    "sns.boxplot(x='group', y='distance', data=concatenated_df)\n",
    "plt.title('알고리즘 비교 (cluster: 4, ga_gen: 300, ms_loop: 1000)')\n",
    "\n",
    "# 각 그룹의 최고점과 최저점을 계산합니다.\n",
    "groups = concatenated_df.groupby('group')['distance']\n",
    "min_points = round(groups.min(),3)\n",
    "max_points = round(groups.max(), 3)\n",
    "\n",
    "# 최고점과 최저점을 표시합니다.\n",
    "for i, (group_name, min_point, max_point) in enumerate(zip(min_points.index, min_points, max_points)):\n",
    "    plt.text(i + 0.2, min_point, f'min: {min_point}', fontsize=12)\n",
    "    plt.text(i + 0.2, max_point, f'max: {max_point}', fontsize=12)\n",
    "\n",
    "plt.show()\n"
   ],
   "metadata": {
    "collapsed": false,
    "pycharm": {
     "name": "#%%\n"
    }
   }
  },
  {
   "cell_type": "code",
   "execution_count": 33,
   "outputs": [
    {
     "name": "stdout",
     "output_type": "stream",
     "text": [
      "t-statistic: 72.96475580436001\n",
      "p-value: 0.0\n"
     ]
    }
   ],
   "source": [
    "from scipy import stats\n",
    "import numpy as np\n",
    "\n",
    "#샘플 데이터 생성\n",
    "ga_test = ga_cluster['fitness']\n",
    "ms_test = ms_cluster['fitness']\n",
    "#등분산 t-검정\n",
    "t, p = stats.ttest_ind(ga_test, ms_test, equal_var=True)\n",
    "\n",
    "print(\"t-statistic:\", t)\n",
    "print(\"p-value:\", p)\n"
   ],
   "metadata": {
    "collapsed": false
   }
  },
  {
   "cell_type": "code",
   "execution_count": null,
   "outputs": [],
   "source": [],
   "metadata": {
    "collapsed": false
   }
  },
  {
   "cell_type": "markdown",
   "source": [],
   "metadata": {
    "collapsed": false
   }
  }
 ],
 "metadata": {
  "kernelspec": {
   "display_name": "Python 3",
   "language": "python",
   "name": "python3"
  },
  "language_info": {
   "codemirror_mode": {
    "name": "ipython",
    "version": 2
   },
   "file_extension": ".py",
   "mimetype": "text/x-python",
   "name": "python",
   "nbconvert_exporter": "python",
   "pygments_lexer": "ipython2",
   "version": "2.7.6"
  }
 },
 "nbformat": 4,
 "nbformat_minor": 0
}