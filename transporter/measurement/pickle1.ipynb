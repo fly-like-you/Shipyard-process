{
 "cells": [
  {
   "cell_type": "code",
   "execution_count": 1,
   "metadata": {
    "collapsed": true
   },
   "outputs": [],
   "source": [
    "import pickle\n",
    "import pandas as pd\n",
    "import matplotlib.pyplot as plt\n",
    "import sns as sns\n",
    "from matplotlib import font_manager, rc\n",
    "font_path = r'C:\\Windows\\Fonts\\gulim.ttc'\n",
    "font = font_manager.FontProperties(fname=font_path).get_name()\n",
    "rc('font', family=font)\n",
    "plt.rcParams['axes.unicode_minus'] = False"
   ]
  },
  {
   "cell_type": "code",
   "execution_count": null,
   "outputs": [],
   "source": [
    "with open('ELITISM-0.085MUTATION-0.191_len(500).pkl', 'rb') as f:\n",
    "    result = pickle.load(f)\n",
    "with open('results2(len100).pkl', 'rb') as f:\n",
    "    result2 = pickle.load(f)\n",
    "with open('result.pkl', 'rb') as f:\n",
    "    result3 = pickle.load(f)\n",
    "with open('ELITISM-0.092MUTATION-0.05len(300).pkl', 'rb') as f:\n",
    "    result4 = pickle.load(f)\n",
    "with open('../multi_start/multi_start(len300).pkl', 'rb') as f:\n",
    "    result5 = pickle.load(f)\n"
   ],
   "metadata": {
    "collapsed": false
   }
  },
  {
   "cell_type": "code",
   "execution_count": null,
   "outputs": [],
   "source": [
    "def get_mutate_elite(result):\n",
    "    result['ELITISM_RATE'] = result['params'].apply(lambda x: x['ELITISM_RATE'])\n",
    "    result['MUTATION_RATE'] = result['params'].apply(lambda x:x['MUTATION_RATE'])\n",
    "    result['POPULATION_SIZE'] = result['params'].apply(lambda x:x['POPULATION_SIZE'])\n",
    "    result['GENERATION_SIZE'] = result['params'].apply(lambda x:x['GENERATION_SIZE'])\n",
    "    result['rank'] = range(1, len(result)+1)\n",
    "    result = result.drop('params', axis=1)\n",
    "    result = result.drop('fitness', axis=1)\n",
    "    return result\n",
    "\n",
    "def show_df(df, param1, param2):\n",
    "    # ELITISM_RATE, MUTATION_RATE, Fitness에 대한 산점도 그래프 출력\n",
    "    # fig, axs = plt.subplots(1, 2, figsize=(10, 5), dpi=200)\n",
    "    fig = plt.figure(figsize=(10, 5), dpi=100)\n",
    "    plt.scatter(df[param1], df[param2])\n",
    "    plt.title(f'{param1} vs {param2}')\n",
    "    plt.xlabel(f'{param1}')\n",
    "    plt.ylabel(f'{param2}')\n",
    "    # axs[0].scatter(df[param1], range(0,len(df)))\n",
    "    # axs[0].set_xlabel(f'{param1}')\n",
    "    # axs[0].set_ylabel(f'{param2}')\n",
    "    # axs[0].set_title(f'{param1} vs {param2}')\n",
    "    # axs[1].scatter(df['MUTATION_RATE'], range(0,len(df)))\n",
    "    # axs[1].set_xlabel('피트니스 내림차순')\n",
    "    # axs[1].set_ylabel('MUTATION_RATE')\n",
    "    # axs[1].set_title('Mutation Rate')\n",
    "    plt.show()\n",
    "\n",
    "def show_elite(df):\n",
    "    # 그래프 출력 설정\n",
    "    fig = plt.figure(figsize=(10, 5), dpi=100)\n",
    "    plt.scatter(range(0,len(df)), df['ELITISM_RATE'])\n",
    "    plt.title('Scatter Plot')\n",
    "    plt.xlabel('피트니스 내림차순')\n",
    "    plt.ylabel('ELITISM_RATE')\n",
    "    plt.show()\n"
   ],
   "metadata": {
    "collapsed": false
   }
  },
  {
   "cell_type": "code",
   "execution_count": null,
   "outputs": [],
   "source": [
    "df1 = get_mutate_elite(result)\n",
    "df2 = get_mutate_elite(result2)\n",
    "df3 = get_mutate_elite(result3)\n",
    "df4 = get_mutate_elite(result4)"
   ],
   "metadata": {
    "collapsed": false
   }
  },
  {
   "cell_type": "code",
   "execution_count": null,
   "outputs": [],
   "source": [
    "fig = plt.figure(figsize=(30, 30), dpi=300)\n",
    "pd.plotting.scatter_matrix(df1, figsize=(10, 10))\n",
    "plt.show()\n"
   ],
   "metadata": {
    "collapsed": false
   }
  },
  {
   "cell_type": "code",
   "execution_count": 43,
   "outputs": [],
   "source": [
    "ga_t_test = result4['fitness']\n",
    "ga_t_test = pd.concat([ga_t_test, pd.Series(['ga'] * len(ga_t_test))], axis=1)\n",
    "ga_t_test.columns = ['fitness', 'group']\n",
    "\n",
    "multi_start_t_test = result5['fitness']\n",
    "multi_start_t_test = pd.concat([multi_start_t_test, pd.Series(['multistart'] * len(multi_start_t_test))], axis=1)\n",
    "multi_start_t_test.columns = ['fitness', 'group']"
   ],
   "metadata": {
    "collapsed": false
   }
  },
  {
   "cell_type": "code",
   "execution_count": 50,
   "outputs": [],
   "source": [
    "concatenated_df = pd.concat([ga_t_test, multi_start_t_test], axis=0)"
   ],
   "metadata": {
    "collapsed": false
   }
  },
  {
   "cell_type": "markdown",
   "source": [],
   "metadata": {
    "collapsed": false
   }
  },
  {
   "cell_type": "code",
   "execution_count": 56,
   "outputs": [
    {
     "data": {
      "text/plain": "<Figure size 600x600 with 1 Axes>",
      "image/png": "[encoded data removed]"
     },
     "metadata": {},
     "output_type": "display_data"
    }
   ],
   "source": [
    "# result4(ga), result5(multistart)\n",
    "import seaborn as sns\n",
    "from scipy.stats import shapiro\n",
    "plt.figure(figsize=(6,6))\n",
    "sns.boxplot(x='group', y='fitness', data=concatenated_df)\n",
    "plt.title('Box plot')\n",
    "plt.show()"
   ],
   "metadata": {
    "collapsed": false
   }
  },
  {
   "cell_type": "code",
   "execution_count": 67,
   "outputs": [
    {
     "name": "stdout",
     "output_type": "stream",
     "text": [
      "t-statistic: 297.38319785160303\n",
      "p-value: 0.0\n"
     ]
    }
   ],
   "source": [
    "from scipy import stats\n",
    "import numpy as np\n",
    "\n",
    "#샘플 데이터 생성\n",
    "group1 = result4['fitness']\n",
    "group2 = result5['fitness']\n",
    "\n",
    "#등분산 t-검정\n",
    "t, p = stats.ttest_ind(group1, group2, equal_var=True)\n",
    "\n",
    "print(\"t-statistic:\", t)\n",
    "print(\"p-value:\", p)\n"
   ],
   "metadata": {
    "collapsed": false
   }
  },
  {
   "cell_type": "code",
   "execution_count": 1,
   "outputs": [
    {
     "data": {
      "text/plain": "'C:\\\\Users\\\\Parkjunho\\\\PycharmProjects\\\\Shipyard-process\\\\transporter\\\\measurement'"
     },
     "execution_count": 1,
     "metadata": {},
     "output_type": "execute_result"
    }
   ],
   "source": [
    "import os\n",
    "os.getcwd()\n",
    "\n"
   ],
   "metadata": {
    "collapsed": false
   }
  },
  {
   "cell_type": "markdown",
   "source": [],
   "metadata": {
    "collapsed": false
   }
  },
  {
   "cell_type": "code",
   "execution_count": 62,
   "outputs": [
    {
     "name": "stdout",
     "output_type": "stream",
     "text": [
      "클러스터 내에서 뽑기 3\n",
      "Start node: 35, End node: 32\n"
     ]
    }
   ],
   "source": [
    "import random\n",
    "\n",
    "# 노드 개수와 클러스터 크기\n",
    "node_count = 36\n",
    "cluster_size = 9\n",
    "\n",
    "# 클러스터 정보 생성 함수\n",
    "def create_clusters(node_count, cluster_size):\n",
    "    if node_count % cluster_size != 0:\n",
    "        raise ValueError(\"노드 개수와 클러스터 크기가 나누어 떨어져야 합니다.\")\n",
    "\n",
    "    clusters = []\n",
    "    for i in range(node_count // cluster_size):\n",
    "        start_node = i * cluster_size + 1\n",
    "        end_node = start_node + cluster_size - 1\n",
    "        clusters.append((start_node, end_node))\n",
    "    return clusters\n",
    "\n",
    "\n",
    "# 시작 노드와 끝 노드 선택 함수\n",
    "def select_start_end_nodes(clusters, inner_cluster_prob=0.7):\n",
    "    if random.random() < inner_cluster_prob:\n",
    "        # 클러스터 내에서 뽑음\n",
    "        cluster_index = random.randint(0, len(clusters)-1)\n",
    "        cluster = range(clusters[cluster_index][0], clusters[cluster_index][1])\n",
    "        start_node, end_node = random.sample(cluster, k=2)\n",
    "    else:\n",
    "        # 클러스터 사이에서 뽑음\n",
    "        start_cluster_index, end_cluster_index = random.sample(range(0,len(clusters)), k=2)\n",
    "        start_node = random.randint(clusters[start_cluster_index][0], clusters[start_cluster_index][1])\n",
    "        end_node = random.randint(clusters[end_cluster_index][0], clusters[end_cluster_index][1])\n",
    "\n",
    "    return start_node, end_node\n",
    "\n"
   ],
   "metadata": {
    "collapsed": false
   }
  },
  {
   "cell_type": "code",
   "execution_count": 69,
   "outputs": [
    {
     "name": "stdout",
     "output_type": "stream",
     "text": [
      "클러스터 사이에서 뽑기 3, 1\n",
      "Start node: 29, End node: 11\n"
     ]
    }
   ],
   "source": [
    "# 클러스터 생성 및 시작 노드와 끝 노드 선택\n",
    "clusters = create_clusters(node_count, cluster_size)\n",
    "start_node, end_node = select_start_end_nodes(clusters)\n",
    "\n",
    "print(f\"Start node: {start_node}, End node: {end_node}\")"
   ],
   "metadata": {
    "collapsed": false
   }
  },
  {
   "cell_type": "code",
   "execution_count": null,
   "outputs": [],
   "source": [
    "node_file_path = os.path.join(os.getcwd(), '..', \"create_data\", \"data\", \"cluster\", \"node(cluster3).csv\")\n",
    "graph = Graph(node_file_path)\n"
   ],
   "metadata": {
    "collapsed": false
   }
  }
 ],
 "metadata": {
  "kernelspec": {
   "display_name": "Python 3",
   "language": "python",
   "name": "python3"
  },
  "language_info": {
   "codemirror_mode": {
    "name": "ipython",
    "version": 2
   },
   "file_extension": ".py",
   "mimetype": "text/x-python",
   "name": "python",
   "nbconvert_exporter": "python",
   "pygments_lexer": "ipython2",
   "version": "2.7.6"
  }
 },
 "nbformat": 4,
 "nbformat_minor": 0
}
