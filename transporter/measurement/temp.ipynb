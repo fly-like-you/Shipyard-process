{
 "cells": [
  {
   "cell_type": "code",
   "execution_count": 1,
   "metadata": {
    "collapsed": true
   },
   "outputs": [],
   "source": [
    "from transporter.transporter.none_hybrid.NoneHybrid import GA\n",
    "from transporter.transporter.GA_refactoring.GA_refactoring import HGA\n",
    "from transporter.transporter.multi_start.MultiStart import MultiStart, get_dir_path\n",
    "from transporter.data.create_data.FileManager import FileManager\n",
    "from transporter.data.create_data.Graph import Graph\n",
    "from matplotlib import font_manager, rc\n",
    "import matplotlib.pyplot as plt\n",
    "import pandas as pd\n",
    "import seaborn as sns\n",
    "import pickle\n",
    "import os\n",
    "\n",
    "font_path = r'C:\\Windows\\Fonts\\gulim.ttc'\n",
    "font = font_manager.FontProperties(fname=font_path).get_name()\n",
    "rc('font', family=font)\n",
    "plt.rcParams['axes.unicode_minus'] = False"
   ]
  },
  {
   "cell_type": "code",
   "execution_count": 3,
   "outputs": [],
   "source": [
    "block = 300\n",
    "cluster = 2\n",
    "\n",
    "ga_params = {\n",
    "    'POPULATION_SIZE': 100,\n",
    "    'GENERATION_SIZE': 400,\n",
    "    'ELITISM_RATE': 0.05,\n",
    "    'MUTATION_RATE': 0.1,\n",
    "    'SELECTION_METHOD': 'selection2',\n",
    "}\n",
    "\n",
    "\n",
    "precondition = {\n",
    "    'START_TIME': 9,  # 전제\n",
    "    'FINISH_TIME': 18,  # 전제\n",
    "    'LOAD_REST_TIME': 0.2,  # 전제\n",
    "    'BLOCKS': block,  # 전제\n",
    "}\n",
    "\n",
    "data_path = os.path.join(get_dir_path(\"transporter\"), \"data\")\n"
   ],
   "metadata": {
    "collapsed": false
   }
  },
  {
   "cell_type": "code",
   "execution_count": 3,
   "outputs": [],
   "source": [
    "filemanager = FileManager()\n",
    "\n",
    "# 그래프 파일 받아오기\n",
    "node_file_path = os.path.join(data_path, \"nodes_and_blocks\", \"cluster\", \"simply_mapping\", str(cluster), f\"node.csv\")\n",
    "graph = Graph(node_file_path)\n",
    "shortest_path_dict = graph.get_shortest_path_dict()\n",
    "\n",
    "# 블록 받아오기\n",
    "block_path = os.path.join(data_path, \"nodes_and_blocks\", \"cluster\", \"simply_mapping\", str(cluster), f\"block{block}.csv\")\n",
    "block_container = filemanager.load_block_data(block_path, BLOCK_NUM=precondition['BLOCKS'])\n",
    "\n",
    "# 트랜스포터 받아오기\n",
    "transporter_path = os.path.join(data_path, 'transporters', 'transporter.csv')\n",
    "transporter_container = filemanager.load_transporters(transporter_path)\n"
   ],
   "metadata": {
    "collapsed": false
   }
  },
  {
   "cell_type": "code",
   "execution_count": 4,
   "outputs": [],
   "source": [
    "hga = HGA(transporter_container, block_container, graph, ga_params, precondition)\n",
    "ga = GA(transporter_container, block_container, graph, ga_params, precondition)\n",
    "ms = MultiStart(transporter_container, block_container, graph, ga_params, precondition)"
   ],
   "metadata": {
    "collapsed": false
   }
  },
  {
   "cell_type": "code",
   "execution_count": null,
   "outputs": [
    {
     "name": "stderr",
     "output_type": "stream",
     "text": [
      "100%|██████████| 400/400 [02:26<00:00,  2.73it/s, Multi Start Best Transporter Count=80]\n"
     ]
    },
    {
     "name": "stdout",
     "output_type": "stream",
     "text": [
      "MultiStart best: 80, best_fitness_value: 5239.7043606812085\n"
     ]
    },
    {
     "name": "stderr",
     "output_type": "stream",
     "text": [
      " 73%|███████▎  | 291/400 [06:24<02:16,  1.25s/it, HGA Best Transporter Count=46]"
     ]
    }
   ],
   "source": [
    "result_dict = {'HGA': [], \"GA\": [], \"MS\": []}\n",
    "for i in range(5):\n",
    "    result_dict['MS'].append(ms.run_GA())\n",
    "    result_dict['HGA'].append(hga.run_GA())\n",
    "    result_dict['GA'].append(ga.run_GA())"
   ],
   "metadata": {
    "collapsed": false,
    "pycharm": {
     "is_executing": true
    }
   }
  },
  {
   "cell_type": "code",
   "execution_count": 6,
   "outputs": [],
   "source": [
    "def make_dataframe(result_dict, type):\n",
    "    df = pd.DataFrame(columns=['best_fitness', 'best_distance'])\n",
    "    for result in result_dict[type]:\n",
    "\n",
    "        best_distance = result['best_distance']\n",
    "        best_fitness = result['best_fitness']\n",
    "        best_time_span = result['best_time_span']\n",
    "        best_tp_count = result['work_tp_count'][-1]\n",
    "        series = pd.Series({'best_fitness': best_fitness, 'best_distance': best_distance,\n",
    "                            'work_tp_count': best_tp_count, 'best_time_span': best_time_span})\n",
    "        df = df.append(series, ignore_index=True)\n",
    "    return df\n",
    "\n",
    "\n",
    "def make_dataset(df, type, tag):\n",
    "    dataset_df = df[tag]\n",
    "    dataset_df = pd.concat([dataset_df, pd.Series([type] * len(dataset_df))], axis=1)\n",
    "    dataset_df.columns = [tag, 'group']\n",
    "    return dataset_df\n",
    "\n",
    "hga_df = make_dataframe(result_dict, \"HGA\")\n",
    "ga_df = make_dataframe(result_dict, \"GA\")\n",
    "ms_df = make_dataframe(result_dict, \"MS\")\n",
    "\n",
    "hga_dataset = make_dataset(hga_df, \"HGA\", \"best_time_span\")\n",
    "ga_dataset = make_dataset(ga_df, \"GA\", \"best_time_span\")\n",
    "ms_dataset = make_dataset(ms_df, \"MS\", \"best_time_span\")\n",
    "\n",
    "concatenated_df = pd.concat([hga_dataset, ga_dataset, ms_dataset], axis=0)"
   ],
   "metadata": {
    "collapsed": false
   }
  },
  {
   "cell_type": "code",
   "execution_count": 16,
   "outputs": [],
   "source": [
    "# result4(ga), result5(multistart)\n",
    "\n",
    "plt.figure(figsize=(6, 6), dpi=400)\n",
    "sns.boxplot(x='group', y='best_time_span', data=concatenated_df)\n",
    "plt.title('알고리즘 비교  (ga_gen: 500, ms_loop: 1000)')\n",
    "\n",
    "# 각 그룹의 최고점과 최저점을 계산합니다.\n",
    "groups = concatenated_df.groupby('group')['best_time_span']\n",
    "min_points = round(groups.min(),3)\n",
    "max_points = round(groups.max(), 3)\n",
    "\n",
    "plt.show()\n"
   ],
   "metadata": {
    "collapsed": false
   }
  },
  {
   "cell_type": "code",
   "execution_count": 17,
   "outputs": [
    {
     "ename": "ValueError",
     "evalue": "Could not interpret input 'work_tp_count'",
     "output_type": "error",
     "traceback": [
      "\u001B[1;31m---------------------------------------------------------------------------\u001B[0m",
      "\u001B[1;31mValueError\u001B[0m                                Traceback (most recent call last)",
      "Cell \u001B[1;32mIn[17], line 4\u001B[0m\n\u001B[0;32m      1\u001B[0m \u001B[38;5;66;03m# result4(ga), result5(multistart)\u001B[39;00m\n\u001B[0;32m      3\u001B[0m plt\u001B[38;5;241m.\u001B[39mfigure(figsize\u001B[38;5;241m=\u001B[39m(\u001B[38;5;241m6\u001B[39m, \u001B[38;5;241m6\u001B[39m), dpi\u001B[38;5;241m=\u001B[39m\u001B[38;5;241m400\u001B[39m)\n\u001B[1;32m----> 4\u001B[0m \u001B[43msns\u001B[49m\u001B[38;5;241;43m.\u001B[39;49m\u001B[43mboxplot\u001B[49m\u001B[43m(\u001B[49m\u001B[43mx\u001B[49m\u001B[38;5;241;43m=\u001B[39;49m\u001B[38;5;124;43m'\u001B[39;49m\u001B[38;5;124;43mgroup\u001B[39;49m\u001B[38;5;124;43m'\u001B[39;49m\u001B[43m,\u001B[49m\u001B[43m \u001B[49m\u001B[43my\u001B[49m\u001B[38;5;241;43m=\u001B[39;49m\u001B[38;5;28;43mtype\u001B[39;49m\u001B[43m,\u001B[49m\u001B[43m \u001B[49m\u001B[43mdata\u001B[49m\u001B[38;5;241;43m=\u001B[39;49m\u001B[43mconcatenated_df\u001B[49m\u001B[43m)\u001B[49m\n\u001B[0;32m      5\u001B[0m plt\u001B[38;5;241m.\u001B[39mtitle(\u001B[38;5;124mf\u001B[39m\u001B[38;5;124m'\u001B[39m\u001B[38;5;124m알고리즘 비교  (ga_gen: 400, blocks = \u001B[39m\u001B[38;5;132;01m{\u001B[39;00mblock\u001B[38;5;132;01m}\u001B[39;00m\u001B[38;5;124m)\u001B[39m\u001B[38;5;124m'\u001B[39m)\n\u001B[0;32m      7\u001B[0m \u001B[38;5;66;03m# 각 그룹의 최고점과 최저점을 계산합니다.\u001B[39;00m\n",
      "File \u001B[1;32m~\\anaconda3\\envs\\Shipyard-process\\lib\\site-packages\\seaborn\\categorical.py:2231\u001B[0m, in \u001B[0;36mboxplot\u001B[1;34m(data, x, y, hue, order, hue_order, orient, color, palette, saturation, width, dodge, fliersize, linewidth, whis, ax, **kwargs)\u001B[0m\n\u001B[0;32m   2224\u001B[0m \u001B[38;5;28;01mdef\u001B[39;00m \u001B[38;5;21mboxplot\u001B[39m(\n\u001B[0;32m   2225\u001B[0m     data\u001B[38;5;241m=\u001B[39m\u001B[38;5;28;01mNone\u001B[39;00m, \u001B[38;5;241m*\u001B[39m, x\u001B[38;5;241m=\u001B[39m\u001B[38;5;28;01mNone\u001B[39;00m, y\u001B[38;5;241m=\u001B[39m\u001B[38;5;28;01mNone\u001B[39;00m, hue\u001B[38;5;241m=\u001B[39m\u001B[38;5;28;01mNone\u001B[39;00m, order\u001B[38;5;241m=\u001B[39m\u001B[38;5;28;01mNone\u001B[39;00m, hue_order\u001B[38;5;241m=\u001B[39m\u001B[38;5;28;01mNone\u001B[39;00m,\n\u001B[0;32m   2226\u001B[0m     orient\u001B[38;5;241m=\u001B[39m\u001B[38;5;28;01mNone\u001B[39;00m, color\u001B[38;5;241m=\u001B[39m\u001B[38;5;28;01mNone\u001B[39;00m, palette\u001B[38;5;241m=\u001B[39m\u001B[38;5;28;01mNone\u001B[39;00m, saturation\u001B[38;5;241m=\u001B[39m\u001B[38;5;241m.75\u001B[39m, width\u001B[38;5;241m=\u001B[39m\u001B[38;5;241m.8\u001B[39m,\n\u001B[0;32m   2227\u001B[0m     dodge\u001B[38;5;241m=\u001B[39m\u001B[38;5;28;01mTrue\u001B[39;00m, fliersize\u001B[38;5;241m=\u001B[39m\u001B[38;5;241m5\u001B[39m, linewidth\u001B[38;5;241m=\u001B[39m\u001B[38;5;28;01mNone\u001B[39;00m, whis\u001B[38;5;241m=\u001B[39m\u001B[38;5;241m1.5\u001B[39m, ax\u001B[38;5;241m=\u001B[39m\u001B[38;5;28;01mNone\u001B[39;00m,\n\u001B[0;32m   2228\u001B[0m     \u001B[38;5;241m*\u001B[39m\u001B[38;5;241m*\u001B[39mkwargs\n\u001B[0;32m   2229\u001B[0m ):\n\u001B[1;32m-> 2231\u001B[0m     plotter \u001B[38;5;241m=\u001B[39m \u001B[43m_BoxPlotter\u001B[49m\u001B[43m(\u001B[49m\u001B[43mx\u001B[49m\u001B[43m,\u001B[49m\u001B[43m \u001B[49m\u001B[43my\u001B[49m\u001B[43m,\u001B[49m\u001B[43m \u001B[49m\u001B[43mhue\u001B[49m\u001B[43m,\u001B[49m\u001B[43m \u001B[49m\u001B[43mdata\u001B[49m\u001B[43m,\u001B[49m\u001B[43m \u001B[49m\u001B[43morder\u001B[49m\u001B[43m,\u001B[49m\u001B[43m \u001B[49m\u001B[43mhue_order\u001B[49m\u001B[43m,\u001B[49m\n\u001B[0;32m   2232\u001B[0m \u001B[43m                          \u001B[49m\u001B[43morient\u001B[49m\u001B[43m,\u001B[49m\u001B[43m \u001B[49m\u001B[43mcolor\u001B[49m\u001B[43m,\u001B[49m\u001B[43m \u001B[49m\u001B[43mpalette\u001B[49m\u001B[43m,\u001B[49m\u001B[43m \u001B[49m\u001B[43msaturation\u001B[49m\u001B[43m,\u001B[49m\n\u001B[0;32m   2233\u001B[0m \u001B[43m                          \u001B[49m\u001B[43mwidth\u001B[49m\u001B[43m,\u001B[49m\u001B[43m \u001B[49m\u001B[43mdodge\u001B[49m\u001B[43m,\u001B[49m\u001B[43m \u001B[49m\u001B[43mfliersize\u001B[49m\u001B[43m,\u001B[49m\u001B[43m \u001B[49m\u001B[43mlinewidth\u001B[49m\u001B[43m)\u001B[49m\n\u001B[0;32m   2235\u001B[0m     \u001B[38;5;28;01mif\u001B[39;00m ax \u001B[38;5;129;01mis\u001B[39;00m \u001B[38;5;28;01mNone\u001B[39;00m:\n\u001B[0;32m   2236\u001B[0m         ax \u001B[38;5;241m=\u001B[39m plt\u001B[38;5;241m.\u001B[39mgca()\n",
      "File \u001B[1;32m~\\anaconda3\\envs\\Shipyard-process\\lib\\site-packages\\seaborn\\categorical.py:785\u001B[0m, in \u001B[0;36m_BoxPlotter.__init__\u001B[1;34m(self, x, y, hue, data, order, hue_order, orient, color, palette, saturation, width, dodge, fliersize, linewidth)\u001B[0m\n\u001B[0;32m    781\u001B[0m \u001B[38;5;28;01mdef\u001B[39;00m \u001B[38;5;21m__init__\u001B[39m(\u001B[38;5;28mself\u001B[39m, x, y, hue, data, order, hue_order,\n\u001B[0;32m    782\u001B[0m              orient, color, palette, saturation,\n\u001B[0;32m    783\u001B[0m              width, dodge, fliersize, linewidth):\n\u001B[1;32m--> 785\u001B[0m     \u001B[38;5;28;43mself\u001B[39;49m\u001B[38;5;241;43m.\u001B[39;49m\u001B[43mestablish_variables\u001B[49m\u001B[43m(\u001B[49m\u001B[43mx\u001B[49m\u001B[43m,\u001B[49m\u001B[43m \u001B[49m\u001B[43my\u001B[49m\u001B[43m,\u001B[49m\u001B[43m \u001B[49m\u001B[43mhue\u001B[49m\u001B[43m,\u001B[49m\u001B[43m \u001B[49m\u001B[43mdata\u001B[49m\u001B[43m,\u001B[49m\u001B[43m \u001B[49m\u001B[43morient\u001B[49m\u001B[43m,\u001B[49m\u001B[43m \u001B[49m\u001B[43morder\u001B[49m\u001B[43m,\u001B[49m\u001B[43m \u001B[49m\u001B[43mhue_order\u001B[49m\u001B[43m)\u001B[49m\n\u001B[0;32m    786\u001B[0m     \u001B[38;5;28mself\u001B[39m\u001B[38;5;241m.\u001B[39mestablish_colors(color, palette, saturation)\n\u001B[0;32m    788\u001B[0m     \u001B[38;5;28mself\u001B[39m\u001B[38;5;241m.\u001B[39mdodge \u001B[38;5;241m=\u001B[39m dodge\n",
      "File \u001B[1;32m~\\anaconda3\\envs\\Shipyard-process\\lib\\site-packages\\seaborn\\categorical.py:541\u001B[0m, in \u001B[0;36m_CategoricalPlotter.establish_variables\u001B[1;34m(self, x, y, hue, data, orient, order, hue_order, units)\u001B[0m\n\u001B[0;32m    539\u001B[0m     \u001B[38;5;28;01mif\u001B[39;00m \u001B[38;5;28misinstance\u001B[39m(var, \u001B[38;5;28mstr\u001B[39m):\n\u001B[0;32m    540\u001B[0m         err \u001B[38;5;241m=\u001B[39m \u001B[38;5;124mf\u001B[39m\u001B[38;5;124m\"\u001B[39m\u001B[38;5;124mCould not interpret input \u001B[39m\u001B[38;5;124m'\u001B[39m\u001B[38;5;132;01m{\u001B[39;00mvar\u001B[38;5;132;01m}\u001B[39;00m\u001B[38;5;124m'\u001B[39m\u001B[38;5;124m\"\u001B[39m\n\u001B[1;32m--> 541\u001B[0m         \u001B[38;5;28;01mraise\u001B[39;00m \u001B[38;5;167;01mValueError\u001B[39;00m(err)\n\u001B[0;32m    543\u001B[0m \u001B[38;5;66;03m# Figure out the plotting orientation\u001B[39;00m\n\u001B[0;32m    544\u001B[0m orient \u001B[38;5;241m=\u001B[39m infer_orient(\n\u001B[0;32m    545\u001B[0m     x, y, orient, require_numeric\u001B[38;5;241m=\u001B[39m\u001B[38;5;28mself\u001B[39m\u001B[38;5;241m.\u001B[39mrequire_numeric\n\u001B[0;32m    546\u001B[0m )\n",
      "\u001B[1;31mValueError\u001B[0m: Could not interpret input 'work_tp_count'"
     ]
    },
    {
     "data": {
      "text/plain": "<Figure size 2400x2400 with 0 Axes>"
     },
     "metadata": {},
     "output_type": "display_data"
    }
   ],
   "source": [
    "with open('../transporter/GA_refactoring/pickle_data/Hybrid_GA_cluster21111.pkl', 'rb') as f:\n",
    "    result = pickle.load(f)"
   ],
   "metadata": {
    "collapsed": false
   }
  }
 ],
 "metadata": {
  "kernelspec": {
   "display_name": "Python 3",
   "language": "python",
   "name": "python3"
  },
  "language_info": {
   "codemirror_mode": {
    "name": "ipython",
    "version": 2
   },
   "file_extension": ".py",
   "mimetype": "text/x-python",
   "name": "python",
   "nbconvert_exporter": "python",
   "pygments_lexer": "ipython2",
   "version": "2.7.6"
  }
 },
 "nbformat": 4,
 "nbformat_minor": 0
}
