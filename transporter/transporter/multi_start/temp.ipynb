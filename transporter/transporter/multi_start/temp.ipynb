{
 "cells": [
  {
   "cell_type": "code",
   "execution_count": 1,
   "metadata": {
    "collapsed": true
   },
   "outputs": [],
   "source": [
    "import pickle"
   ]
  },
  {
   "cell_type": "code",
   "execution_count": 12,
   "outputs": [
    {
     "name": "stdout",
     "output_type": "stream",
     "text": [
      "best_distance: 839.5640000000004, work_tp_count: 82\n",
      "best_distance: 859.5960000000002, work_tp_count: 81\n",
      "best_distance: 867.2340000000006, work_tp_count: 82\n",
      "best_distance: 837.2080000000003, work_tp_count: 79\n",
      "best_distance: 870.4140000000001, work_tp_count: 81\n"
     ]
    }
   ],
   "source": [
    "\n",
    "for i in range(5):\n",
    "    file_name = f'./MutiStart{i}_300.pkl'\n",
    "    with open(file_name, 'rb') as f:\n",
    "        result = pickle.load(f)\n",
    "    print(f'best_distance: {result[\"best_distance\"]}, work_tp_count: {result[\"work_tp_count\"][-1]}')"
   ],
   "metadata": {
    "collapsed": false
   }
  }
 ],
 "metadata": {
  "kernelspec": {
   "display_name": "Python 3",
   "language": "python",
   "name": "python3"
  },
  "language_info": {
   "codemirror_mode": {
    "name": "ipython",
    "version": 2
   },
   "file_extension": ".py",
   "mimetype": "text/x-python",
   "name": "python",
   "nbconvert_exporter": "python",
   "pygments_lexer": "ipython2",
   "version": "2.7.6"
  }
 },
 "nbformat": 4,
 "nbformat_minor": 0
}
