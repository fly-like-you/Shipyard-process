{
 "cells": [
  {
   "cell_type": "code",
   "execution_count": 1,
   "metadata": {
    "collapsed": true
   },
   "outputs": [],
   "source": [
    "import pickle"
   ]
  },
  {
   "cell_type": "code",
   "execution_count": 4,
   "outputs": [
    {
     "name": "stdout",
     "output_type": "stream",
     "text": [
      "best_distance: 630.8039999999999, work_tp_count: 72\n",
      "best_distance: 640.4720000000003, work_tp_count: 75\n",
      "best_distance: 619.1380000000003, work_tp_count: 77\n",
      "best_distance: 616.2200000000003, work_tp_count: 74\n",
      "best_distance: 627.6940000000005, work_tp_count: 72\n"
     ]
    }
   ],
   "source": [
    "for i in range(5):\n",
    "    file_name = f'./GA{i}_300.pkl'\n",
    "    with open(file_name, 'rb') as f:\n",
    "        result = pickle.load(f)\n",
    "    print(f'best_distance: {result[\"best_distance\"]}, work_tp_count: {result[\"work_tp_count\"][-1]}')"
   ],
   "metadata": {
    "collapsed": false
   }
  },
  {
   "cell_type": "code",
   "execution_count": null,
   "outputs": [],
   "source": [],
   "metadata": {
    "collapsed": false
   }
  }
 ],
 "metadata": {
  "kernelspec": {
   "display_name": "Python 3",
   "language": "python",
   "name": "python3"
  },
  "language_info": {
   "codemirror_mode": {
    "name": "ipython",
    "version": 2
   },
   "file_extension": ".py",
   "mimetype": "text/x-python",
   "name": "python",
   "nbconvert_exporter": "python",
   "pygments_lexer": "ipython2",
   "version": "2.7.6"
  }
 },
 "nbformat": 4,
 "nbformat_minor": 0
}
