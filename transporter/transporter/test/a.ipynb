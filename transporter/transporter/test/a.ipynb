{
 "cells": [
  {
   "cell_type": "code",
   "execution_count": 30,
   "metadata": {
    "collapsed": true
   },
   "outputs": [],
   "source": [
    "from transporter.data.create_data.Block import Block\n",
    "from transporter.data.create_data.Transporter import Transporter\n",
    "import random\n",
    "from transporter.transporter.GA_refactoring.Crossover import Crossover"
   ]
  },
  {
   "cell_type": "code",
   "execution_count": 23,
   "outputs": [],
   "source": [
    "def create_blocks():\n",
    "    block_li = []\n",
    "    for i in range(1, 11):\n",
    "        weight = random.randint(100, 500)\n",
    "        start_node, end_node = random.sample([i for i in range(30)], k=2)\n",
    "        start_time, end_time = random.sample([i for i in range(9, 18)], k=2)\n",
    "        block_li.append(Block(i, weight, start_node, end_node, start_time, end_time))\n",
    "    return block_li\n",
    "\n",
    "def shuffle_blocks(block_li):\n",
    "    # 리스트를 무작위로 섞음\n",
    "    random.shuffle(block_li)\n",
    "\n",
    "    # 리스트를 두 부분으로 나눔\n",
    "    split_point = len(block_li) // 2   # 반으로 나누는 기준점을 찾음\n",
    "    list1 = block_li[:split_point]     # 기준점 앞쪽 부분\n",
    "    list2 = block_li[split_point:]     # 기준점 이후 부분\n",
    "\n",
    "    return list1, list2\n",
    "\n",
    "def create_tps():\n",
    "    tp_li = []\n",
    "    for i in range(2):\n",
    "        weight = random.randint(100, 500)\n",
    "        empty_speed = random.randint(2, 8)\n",
    "        speed = empty_speed + 2\n",
    "        tp_li.append(Transporter(i, weight, empty_speed, speed))\n",
    "\n",
    "    return tp_li"
   ],
   "metadata": {
    "collapsed": false
   }
  },
  {
   "cell_type": "code",
   "execution_count": 45,
   "outputs": [],
   "source": [
    "def print_individual(individual):\n",
    "    for tp in individual:\n",
    "        for i in tp.works:\n",
    "            print(i, end=' ')\n",
    "        print()\n"
   ],
   "metadata": {
    "collapsed": false
   }
  },
  {
   "cell_type": "code",
   "execution_count": 33,
   "outputs": [],
   "source": [
    "work1 = [1, 5, 7, 10]\n",
    "work2 = [4, 2, 3, 6, 9, 8]\n",
    "\n",
    "work3 = [1, 9, 5, 2]\n",
    "work4 = [3, 10, 4, 6, 8, 7]\n",
    "parent1 = create_tps()\n",
    "parent1[0].works = work1\n",
    "parent1[1].works = work2\n",
    "parent2 = create_tps()\n",
    "parent2[0].works = work3\n",
    "parent2[1].works = work4"
   ],
   "metadata": {
    "collapsed": false
   }
  },
  {
   "cell_type": "code",
   "execution_count": 44,
   "outputs": [],
   "source": [
    "import copy\n",
    "child1 = copy.deepcopy(parent1)\n",
    "child2 = copy.deepcopy(parent2)\n",
    "for tp in child1:\n",
    "    tp.works.clear()\n",
    "for tp in child2:\n",
    "    tp.works.clear()\n"
   ],
   "metadata": {
    "collapsed": false
   }
  },
  {
   "cell_type": "code",
   "execution_count": 49,
   "outputs": [
    {
     "name": "stdout",
     "output_type": "stream",
     "text": [
      "1 5 7 10 \n",
      "4 2 3 6 9 8 \n",
      "1 9 5 2 \n",
      "3 10 4 6 8 7 \n"
     ]
    }
   ],
   "source": [
    "print_individual(parent1)\n",
    "print_individual(parent2)"
   ],
   "metadata": {
    "collapsed": false
   }
  },
  {
   "cell_type": "markdown",
   "source": [
    "여기서 부터 시작"
   ],
   "metadata": {
    "collapsed": false
   }
  },
  {
   "cell_type": "code",
   "execution_count": 75,
   "outputs": [],
   "source": [
    "for tp in child1:\n",
    "    tp.works = [None for _ in range(10)]\n",
    "for tp in child2:\n",
    "    tp.works = [None for _ in range(10)]"
   ],
   "metadata": {
    "collapsed": false
   }
  },
  {
   "cell_type": "code",
   "execution_count": 76,
   "outputs": [
    {
     "name": "stdout",
     "output_type": "stream",
     "text": [
      "블록번호: 1\n",
      "tp인덱스: 0, 블록인덱스: 0\n",
      "블록번호: 2\n",
      "tp인덱스: 0, 블록인덱스: 3\n",
      "블록번호: 3\n",
      "tp인덱스: 1, 블록인덱스: 2\n",
      "블록번호: 4\n",
      "tp인덱스: 1, 블록인덱스: 2\n",
      "hit\n",
      "블록번호: 5\n",
      "tp인덱스: 0, 블록인덱스: 2\n",
      "블록번호: 6\n",
      "tp인덱스: 1, 블록인덱스: 3\n",
      "블록번호: 7\n",
      "tp인덱스: 1, 블록인덱스: 5\n",
      "블록번호: 8\n",
      "tp인덱스: 1, 블록인덱스: 4\n",
      "블록번호: 9\n",
      "tp인덱스: 0, 블록인덱스: 1\n",
      "블록번호: 10\n",
      "tp인덱스: 1, 블록인덱스: 1\n"
     ]
    }
   ],
   "source": [
    "for i in range(1, 10 + 1):\n",
    "    # 각 부모 트랜스포터 중 하나 선택\n",
    "    if random.random() < 0.5:\n",
    "        selected_parent = parent1\n",
    "        other_parent = parent2\n",
    "    else:\n",
    "        selected_parent = parent2\n",
    "        other_parent = parent1\n",
    "\n",
    "    # 선택한 부모 트랜스포터의 works 리스트에서 현재 블록 번호를 가진 블록 선택\n",
    "    for tp_idx, transporter in enumerate(selected_parent):\n",
    "        for b_idx, block in enumerate(transporter.works):\n",
    "            if block == i:\n",
    "                # 2번블록을 찾았다\n",
    "                print(f\"블록번호: {block}\")\n",
    "                print(f\"tp인덱스: {tp_idx}, 블록인덱스: {b_idx}\")\n",
    "                if child1[tp_idx].works[b_idx] != None:\n",
    "                    print(\"hit\")\n",
    "                    j = b_idx\n",
    "                    while child1[tp_idx].works[j] != None:\n",
    "                        if j >= len(child1[tp_idx].works):\n",
    "                            child1[tp_idx].works.append(block)\n",
    "                            break\n",
    "                        if child1[tp_idx].works[j] == None:\n",
    "                            child1[tp_idx].works[j] = block\n",
    "                        j += 1\n",
    "\n",
    "\n",
    "                else:\n",
    "                    child1[tp_idx].works[b_idx] = block\n",
    "\n",
    "                break\n",
    "\n"
   ],
   "metadata": {
    "collapsed": false
   }
  },
  {
   "cell_type": "code",
   "execution_count": 77,
   "outputs": [
    {
     "name": "stdout",
     "output_type": "stream",
     "text": [
      "1 9 5 2 None None None None None None \n",
      "None 10 3 6 8 7 None None None None \n",
      "None None None None None None None None None None \n",
      "None None None None None None None None None None \n"
     ]
    }
   ],
   "source": [
    "print_individual(child1)\n",
    "print_individual(child2)"
   ],
   "metadata": {
    "collapsed": false
   }
  },
  {
   "cell_type": "code",
   "execution_count": 85,
   "outputs": [
    {
     "data": {
      "text/plain": "[10, 3, 6, 8, 7]"
     },
     "execution_count": 85,
     "metadata": {},
     "output_type": "execute_result"
    }
   ],
   "source": [
    "a = [i for i in child1[1].works if i is not None ]\n",
    "a"
   ],
   "metadata": {
    "collapsed": false
   }
  }
 ],
 "metadata": {
  "kernelspec": {
   "display_name": "Python 3",
   "language": "python",
   "name": "python3"
  },
  "language_info": {
   "codemirror_mode": {
    "name": "ipython",
    "version": 2
   },
   "file_extension": ".py",
   "mimetype": "text/x-python",
   "name": "python",
   "nbconvert_exporter": "python",
   "pygments_lexer": "ipython2",
   "version": "2.7.6"
  }
 },
 "nbformat": 4,
 "nbformat_minor": 0
}
